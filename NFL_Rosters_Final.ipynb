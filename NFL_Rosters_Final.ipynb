{
 "cells": [
  {
   "cell_type": "code",
   "execution_count": 1,
   "metadata": {},
   "outputs": [],
   "source": [
    "import numpy as np\n",
    "import pandas as pd \n",
    "import os\n",
    "import datetime\n",
    "import matplotlib.pyplot as plt\n",
    "import seaborn as sns"
   ]
  },
  {
   "cell_type": "markdown",
   "metadata": {},
   "source": [
    "# Data Preparation"
   ]
  },
  {
   "cell_type": "code",
   "execution_count": 2,
   "metadata": {},
   "outputs": [],
   "source": [
    "def load_data(in_path, name):\n",
    "    df = pd.read_csv(in_path, low_memory=False)\n",
    "    #print(f\"{name}: shape is {df.shape}\")\n",
    "    #print(df.info())\n",
    "    #display(df.head(5))\n",
    "    return df"
   ]
  },
  {
   "cell_type": "markdown",
   "metadata": {},
   "source": [
    "## Load Roster Data "
   ]
  },
  {
   "cell_type": "code",
   "execution_count": 7,
   "metadata": {},
   "outputs": [],
   "source": [
    "DATA_DIR = \"C:/Users/travis/Dropbox (Arthroscopy Associa)/Travis/Desktop/IU Data Visualization Semester 2/Final Project\"\n",
    "datasets={}"
   ]
  },
  {
   "cell_type": "code",
   "execution_count": 8,
   "metadata": {},
   "outputs": [],
   "source": [
    "pre_roster_2009 = load_data(os.path.join(DATA_DIR, f'pre_roster_2009.csv'), 'pre_roster_2009')\n",
    "pre_roster_2009['Made_Roster'] = 0\n",
    "\n",
    "reg_roster_2009 = load_data(os.path.join(DATA_DIR, f'reg_roster_2009.csv'), 'reg_roster_2009')\n",
    "reg_roster_2009['Made_Roster'] = 1\n",
    "\n",
    "roster_2009 = reg_roster_2009.append(pre_roster_2009)"
   ]
  },
  {
   "cell_type": "code",
   "execution_count": 11,
   "metadata": {},
   "outputs": [],
   "source": [
    "years = [2010, 2011, 2012, 2013, 2014, 2015, 2016, 2017, 2018]"
   ]
  },
  {
   "cell_type": "code",
   "execution_count": 12,
   "metadata": {},
   "outputs": [],
   "source": [
    "roster_all = roster_2009.copy()\n",
    "\n",
    "for ii in years:\n",
    "    pre_name = 'pre_roster_' + str(ii)\n",
    "    pre_df = load_data(os.path.join(DATA_DIR, f'{pre_name}.csv'), pre_name)\n",
    "    #print(pre_df.shape)\n",
    "    \n",
    "    reg_name = 'reg_roster_' + str(ii)\n",
    "    reg_df = load_data(os.path.join(DATA_DIR, f'{reg_name}.csv'), reg_name)\n",
    "    \n",
    "    roster_df = pre_df.assign(Made_Roster=pre_df.gsis_id.isin(reg_df.gsis_id).astype(int))\n",
    "    \n",
    "    roster_all = roster_all.append(roster_df)\n",
    "    #print(roster_all.shape)\n",
    "    \n",
    "roster_all = roster_all.drop(['season_type'], axis=1)"
   ]
  },
  {
   "cell_type": "markdown",
   "metadata": {},
   "source": [
    "## Transform Play-By-Play Data "
   ]
  },
  {
   "cell_type": "code",
   "execution_count": 13,
   "metadata": {},
   "outputs": [],
   "source": [
    "years.append(2009)"
   ]
  },
  {
   "cell_type": "code",
   "execution_count": 14,
   "metadata": {},
   "outputs": [],
   "source": [
    "columns = ['game_id', 'yardline_100', 'half_seconds_remaining', 'game_seconds_remaining', 'game_half', 'drive', 'qtr', 'down', \n",
    "           'goal_to_go', 'ydstogo', 'ydsnet', 'play_type', 'yards_gained','air_yards', 'yards_after_catch', \n",
    "           'two_point_converted', 'two_point_failed', 'third_down_converted', 'third_down_failed',\n",
    "           'fourth_down_converted', 'fourth_down_failed', 'incomplete_pass', 'interception', 'penalty', 'fumble_lost',\n",
    "           'touchdown', 'fumble', 'complete_pass', 'passer_player_id', 'receiver_player_id', 'rusher_player_id',\n",
    "           'fumbled_1_player_id', 'penalty_player_id', 'penalty_yards',\n",
    "           'unique_id', 'season', 'Two_Min', 'Redzone', 'Per_Yards_Gained', 'Success_Play']"
   ]
  },
  {
   "cell_type": "code",
   "execution_count": 15,
   "metadata": {},
   "outputs": [],
   "source": [
    "pbp_all = pd.DataFrame(columns = columns)\n",
    "\n",
    "for ii in years:\n",
    "    pbp_name = 'pre_pbp_' + str(ii)\n",
    "    pbp_df = load_data(os.path.join(DATA_DIR, f'{pbp_name}.csv'), pbp_name)\n",
    "    \n",
    "    #get unique ID for each play\n",
    "    pbp_df['unique_id'] = pbp_df['play_id'].astype(str) + pbp_df['game_id'].astype(str)\n",
    "    \n",
    "    #add year of game\n",
    "    pbp_df['season'] = ii\n",
    "    \n",
    "    #keep plays we are concerned with\n",
    "    pbp_df = pbp_df[(pbp_df.play_type == 'pass') | (pbp_df.play_type == 'run')]\n",
    "    \n",
    "    #encode two point conversions\n",
    "    two_conv_df = pbp_df[(pbp_df.two_point_conv_result == 'success')]\n",
    "    pbp_df = pbp_df.assign(two_point_converted=pbp_df.unique_id.isin(two_conv_df.unique_id).astype(int))\n",
    "    \n",
    "    two_fail_df = pbp_df[(pbp_df.two_point_conv_result == 'failure')]\n",
    "    pbp_df = pbp_df.assign(two_point_failed=pbp_df.unique_id.isin(two_fail_df.unique_id).astype(int))\n",
    "    \n",
    "    #flag plays in last two mins of a half\n",
    "    two_min_df = pbp_df[(pbp_df.half_seconds_remaining <= 120)]\n",
    "    pbp_df = pbp_df.assign(Two_Min=pbp_df.unique_id.isin(two_min_df.unique_id).astype(int))\n",
    "    \n",
    "    #flag red zone plays\n",
    "    red_df = pbp_df[(pbp_df.yardline_100 <= 20)]\n",
    "    pbp_df = pbp_df.assign(Redzone=pbp_df.unique_id.isin(red_df.unique_id).astype(int))\n",
    "    \n",
    "    \n",
    "    # flag success rate using Football Outsider's varsity formula\n",
    "    # https://www.footballoutsiders.com/info/glossary\n",
    "    pbp_df['Per_Yards_Gained'] = pbp_df.yards_gained / pbp_df.ydstogo\n",
    "    \n",
    "    suc_fir_df = pbp_df[(pbp_df.down == 1) & (pbp_df.Per_Yards_Gained >= .5)]\n",
    "    suc_sec_df = pbp_df[(pbp_df.down == 2) & (pbp_df.Per_Yards_Gained >= .7)]\n",
    "    suc_thi_df = pbp_df[(pbp_df.down == 3) & (pbp_df.Per_Yards_Gained >= 1)]\n",
    "    suc_fou_df = pbp_df[(pbp_df.down == 4) & (pbp_df.Per_Yards_Gained >= 1)]\n",
    "    \n",
    "    suc_all_df = pd.concat([suc_fir_df, suc_sec_df, suc_thi_df, suc_fou_df], axis=0, ignore_index=True)\n",
    "    \n",
    "    pbp_df = pbp_df.assign(Success_Play=pbp_df.unique_id.isin(suc_all_df.unique_id).astype(int))\n",
    "    \n",
    "    \n",
    "    #prepare final dataframe\n",
    "    pbp_df = pbp_df.fillna(0)\n",
    "    \n",
    "    pbp_all = pbp_all.append(pbp_df[columns])"
   ]
  },
  {
   "cell_type": "markdown",
   "metadata": {},
   "source": [
    "## Combine All Data "
   ]
  },
  {
   "cell_type": "code",
   "execution_count": 16,
   "metadata": {},
   "outputs": [],
   "source": [
    "agg_cols = ['yards_gained', 'two_point_converted', 'two_point_failed', 'third_down_converted', 'third_down_failed',\n",
    "            'fourth_down_converted', 'fourth_down_failed', 'touchdown', 'Two_Min', 'Redzone', 'Success_Play', 'Total_Plays',\n",
    "            'Q1_Plays', 'Q2_Plays', 'Q3_Plays', 'Q4_Plays']\n",
    "\n",
    "pass_cols = ['interception', 'incomplete_pass', 'complete_pass', 'air_yards', 'pass_yards', 'pass_touchdown', \n",
    "             'Success_Pass', 'Passer_Plays'] + agg_cols\n",
    "\n",
    "rec_cols = ['yards_after_catch', 'receiving_yards', 'receiving_touchdown', 'Success_Receive', 'Receiver_Plays'] + agg_cols\n",
    "\n",
    "rush_cols = ['rush_yards', 'rush_touchdown', 'Success_Rush', 'Run_Plays'] + agg_cols\n",
    "\n",
    "pen_cols = ['penalty', 'penalty_yards']\n",
    "\n",
    "fumb_cols = ['fumble_lost', 'fumble']"
   ]
  },
  {
   "cell_type": "code",
   "execution_count": 17,
   "metadata": {},
   "outputs": [],
   "source": [
    "all_cols = pass_cols + rec_cols + rush_cols + pen_cols + fumb_cols\n",
    "all_cols = list(set(all_cols))\n",
    "all_cols = sorted(all_cols, key=str.lower)"
   ]
  },
  {
   "cell_type": "code",
   "execution_count": 20,
   "metadata": {},
   "outputs": [
    {
     "name": "stderr",
     "output_type": "stream",
     "text": [
      "C:\\Users\\travis\\AppData\\Local\\Continuum\\anaconda3\\lib\\site-packages\\ipykernel_launcher.py:83: FutureWarning: Sorting because non-concatenation axis is not aligned. A future version\n",
      "of pandas will change to not sort by default.\n",
      "\n",
      "To accept the future behavior, pass 'sort=False'.\n",
      "\n",
      "To retain the current behavior and silence the warning, pass 'sort=True'.\n",
      "\n",
      "C:\\Users\\travis\\AppData\\Local\\Continuum\\anaconda3\\lib\\site-packages\\pandas\\core\\frame.py:7123: FutureWarning: Sorting because non-concatenation axis is not aligned. A future version\n",
      "of pandas will change to not sort by default.\n",
      "\n",
      "To accept the future behavior, pass 'sort=False'.\n",
      "\n",
      "To retain the current behavior and silence the warning, pass 'sort=True'.\n",
      "\n",
      "  sort=sort,\n"
     ]
    }
   ],
   "source": [
    "stats_df = pd.DataFrame(columns = all_cols)\n",
    "\n",
    "for ii in years:\n",
    "    year_df = pbp_all[(pbp_all.season == ii)].copy()\n",
    "    year_df['Total_Plays'] = 1\n",
    "    \n",
    "    #Add Plays in quarter    \n",
    "    q1_df = year_df[(year_df.qtr == 1)]\n",
    "    year_df = year_df.assign(Q1_Plays=year_df.unique_id.isin(q1_df.unique_id).astype(int))\n",
    "    \n",
    "    q2_df = year_df[(year_df.qtr == 2)]\n",
    "    year_df = year_df.assign(Q2_Plays=year_df.unique_id.isin(q2_df.unique_id).astype(int))\n",
    "    \n",
    "    q3_df = year_df[(year_df.qtr == 3)]\n",
    "    year_df = year_df.assign(Q3_Plays=year_df.unique_id.isin(q3_df.unique_id).astype(int))\n",
    "    \n",
    "    q4_df = year_df[(year_df.qtr == 4)]\n",
    "    year_df = year_df.assign(Q4_Plays=year_df.unique_id.isin(q4_df.unique_id).astype(int))\n",
    "    \n",
    "    #assemble passing stats\n",
    "    pass_df = year_df[(year_df.play_type == 'pass')]\n",
    "    pass_df = pass_df.infer_objects()  \n",
    "    pass_df['pass_yards'] = pass_df['yards_gained']\n",
    "    pass_df['pass_touchdown'] = pass_df['touchdown']\n",
    "    pass_df['Success_Pass'] = pass_df['Success_Play']\n",
    "    pass_df['Passer_Plays'] = 1\n",
    "    \n",
    "    pass_df = pass_df.groupby('passer_player_id').sum()    \n",
    "    pass_df = pass_df[pass_cols]\n",
    "    pass_df.index.name = 'player_id'\n",
    "    \n",
    "    \n",
    "    #assemble receiving stats\n",
    "    rec_df = year_df[(year_df.play_type == 'pass')]\n",
    "    rec_df = rec_df.infer_objects()\n",
    "    rec_df['receiving_yards'] = rec_df['yards_gained']\n",
    "    rec_df['receiving_touchdown'] = rec_df['touchdown']\n",
    "    rec_df['Success_Receive'] = rec_df['Success_Play']\n",
    "    rec_df['Receiver_Plays'] = 1\n",
    "    \n",
    "    rec_df = rec_df.groupby('receiver_player_id').sum()    \n",
    "    rec_df = rec_df[rec_cols]\n",
    "    \n",
    "    rec_df.index.name = 'player_id'\n",
    "    rec_df = rec_df.drop(rec_df.index[0])\n",
    "    \n",
    "    \n",
    "    #assemble rushing stats\n",
    "    rush_df = year_df[(year_df.play_type == 'run')]\n",
    "    rush_df = rush_df.infer_objects()\n",
    "    rush_df['rush_yards'] = rush_df['yards_gained']\n",
    "    rush_df['rush_touchdown'] = rush_df['touchdown']\n",
    "    rush_df['Success_Rush'] = rush_df['Success_Play']\n",
    "    rush_df['Run_Plays'] = 1\n",
    "    \n",
    "    rush_df = rush_df.groupby('rusher_player_id').sum()    \n",
    "    rush_df = rush_df[rush_cols]\n",
    "    \n",
    "    rush_df.index.name = 'player_id'\n",
    "    \n",
    "    \n",
    "    #assemble penalty stats\n",
    "    pen_df = year_df[(year_df.penalty == 1)]\n",
    "    pen_df = pen_df.infer_objects()\n",
    "    pen_df = pen_df.groupby('penalty_player_id').sum()    \n",
    "    pen_df = pen_df[pen_cols]\n",
    "    \n",
    "    pen_df.index.name = 'player_id'\n",
    "    pen_df = pen_df.drop(pen_df.index[0])\n",
    "    \n",
    "    \n",
    "    #assemble fumble stats\n",
    "    fumb_df = year_df[(year_df.fumble == 1)]\n",
    "    fumb_df = fumb_df.infer_objects()\n",
    "    \n",
    "    fumb_df = fumb_df.groupby('fumbled_1_player_id').sum()    \n",
    "    fumb_df = fumb_df[fumb_cols]\n",
    "    \n",
    "    fumb_df.index.name = 'player_id'\n",
    "    \n",
    "    \n",
    "    #combine stats\n",
    "    comb_df = pd.concat([pass_df, rec_df, rush_df, pen_df, fumb_df]).groupby(['player_id']).sum()\n",
    "    \n",
    "    \n",
    "    #join in player information\n",
    "    player_df = roster_all[(roster_all.season == ii)]\n",
    "    \n",
    "    player_df = player_df.set_index('gsis_id')\n",
    "    player_df.index.name = 'player_id'\n",
    "    \n",
    "    comb_df = comb_df.join(player_df)    \n",
    "    comb_df = comb_df.dropna(subset=['Made_Roster'])\n",
    "    \n",
    "    \n",
    "    #join all data into final dataframe\n",
    "    comb_df = comb_df.fillna(0)\n",
    "   \n",
    "    stats_df = stats_df.append(comb_df)"
   ]
  },
  {
   "cell_type": "code",
   "execution_count": 22,
   "metadata": {},
   "outputs": [],
   "source": [
    "#change the display formats on numbers for simplicity\n",
    "pd.options.display.float_format = '{:,.0f}'.format\n",
    "stats_df['season'] = pd.to_numeric(stats_df['season'], downcast='integer')"
   ]
  },
  {
   "cell_type": "code",
   "execution_count": 23,
   "metadata": {},
   "outputs": [
    {
     "name": "stdout",
     "output_type": "stream",
     "text": [
      "6555\n"
     ]
    },
    {
     "data": {
      "text/html": [
       "<div>\n",
       "<style scoped>\n",
       "    .dataframe tbody tr th:only-of-type {\n",
       "        vertical-align: middle;\n",
       "    }\n",
       "\n",
       "    .dataframe tbody tr th {\n",
       "        vertical-align: top;\n",
       "    }\n",
       "\n",
       "    .dataframe thead th {\n",
       "        text-align: right;\n",
       "    }\n",
       "</style>\n",
       "<table border=\"1\" class=\"dataframe\">\n",
       "  <thead>\n",
       "    <tr style=\"text-align: right;\">\n",
       "      <th></th>\n",
       "      <th>Made_Roster</th>\n",
       "      <th>Passer_Plays</th>\n",
       "      <th>Q1_Plays</th>\n",
       "      <th>Q2_Plays</th>\n",
       "      <th>Q3_Plays</th>\n",
       "      <th>Q4_Plays</th>\n",
       "      <th>Receiver_Plays</th>\n",
       "      <th>Redzone</th>\n",
       "      <th>Run_Plays</th>\n",
       "      <th>Success_Pass</th>\n",
       "      <th>...</th>\n",
       "      <th>rush_yards</th>\n",
       "      <th>season</th>\n",
       "      <th>team</th>\n",
       "      <th>third_down_converted</th>\n",
       "      <th>third_down_failed</th>\n",
       "      <th>touchdown</th>\n",
       "      <th>two_point_converted</th>\n",
       "      <th>two_point_failed</th>\n",
       "      <th>yards_after_catch</th>\n",
       "      <th>yards_gained</th>\n",
       "    </tr>\n",
       "  </thead>\n",
       "  <tbody>\n",
       "    <tr>\n",
       "      <td>00-0000865</td>\n",
       "      <td>1</td>\n",
       "      <td>10</td>\n",
       "      <td>0</td>\n",
       "      <td>0</td>\n",
       "      <td>3</td>\n",
       "      <td>7</td>\n",
       "      <td>0</td>\n",
       "      <td>3</td>\n",
       "      <td>0</td>\n",
       "      <td>4</td>\n",
       "      <td>...</td>\n",
       "      <td>0</td>\n",
       "      <td>2010</td>\n",
       "      <td>PIT</td>\n",
       "      <td>1</td>\n",
       "      <td>2</td>\n",
       "      <td>2</td>\n",
       "      <td>0</td>\n",
       "      <td>0</td>\n",
       "      <td>0</td>\n",
       "      <td>64</td>\n",
       "    </tr>\n",
       "    <tr>\n",
       "      <td>00-0002110</td>\n",
       "      <td>1</td>\n",
       "      <td>33</td>\n",
       "      <td>7</td>\n",
       "      <td>16</td>\n",
       "      <td>4</td>\n",
       "      <td>6</td>\n",
       "      <td>0</td>\n",
       "      <td>3</td>\n",
       "      <td>0</td>\n",
       "      <td>9</td>\n",
       "      <td>...</td>\n",
       "      <td>0</td>\n",
       "      <td>2010</td>\n",
       "      <td>NYJ</td>\n",
       "      <td>2</td>\n",
       "      <td>8</td>\n",
       "      <td>2</td>\n",
       "      <td>0</td>\n",
       "      <td>0</td>\n",
       "      <td>0</td>\n",
       "      <td>118</td>\n",
       "    </tr>\n",
       "    <tr>\n",
       "      <td>00-0003035</td>\n",
       "      <td>1</td>\n",
       "      <td>0</td>\n",
       "      <td>1</td>\n",
       "      <td>0</td>\n",
       "      <td>0</td>\n",
       "      <td>1</td>\n",
       "      <td>2</td>\n",
       "      <td>0</td>\n",
       "      <td>0</td>\n",
       "      <td>0</td>\n",
       "      <td>...</td>\n",
       "      <td>0</td>\n",
       "      <td>2010</td>\n",
       "      <td>CHI</td>\n",
       "      <td>0</td>\n",
       "      <td>0</td>\n",
       "      <td>0</td>\n",
       "      <td>0</td>\n",
       "      <td>0</td>\n",
       "      <td>5</td>\n",
       "      <td>25</td>\n",
       "    </tr>\n",
       "    <tr>\n",
       "      <td>00-0003292</td>\n",
       "      <td>1</td>\n",
       "      <td>38</td>\n",
       "      <td>0</td>\n",
       "      <td>22</td>\n",
       "      <td>10</td>\n",
       "      <td>6</td>\n",
       "      <td>0</td>\n",
       "      <td>2</td>\n",
       "      <td>0</td>\n",
       "      <td>16</td>\n",
       "      <td>...</td>\n",
       "      <td>0</td>\n",
       "      <td>2010</td>\n",
       "      <td>TEN</td>\n",
       "      <td>5</td>\n",
       "      <td>6</td>\n",
       "      <td>1</td>\n",
       "      <td>0</td>\n",
       "      <td>0</td>\n",
       "      <td>0</td>\n",
       "      <td>249</td>\n",
       "    </tr>\n",
       "    <tr>\n",
       "      <td>00-0003315</td>\n",
       "      <td>1</td>\n",
       "      <td>16</td>\n",
       "      <td>8</td>\n",
       "      <td>9</td>\n",
       "      <td>0</td>\n",
       "      <td>0</td>\n",
       "      <td>0</td>\n",
       "      <td>3</td>\n",
       "      <td>1</td>\n",
       "      <td>6</td>\n",
       "      <td>...</td>\n",
       "      <td>0</td>\n",
       "      <td>2010</td>\n",
       "      <td>CHI</td>\n",
       "      <td>2</td>\n",
       "      <td>4</td>\n",
       "      <td>1</td>\n",
       "      <td>0</td>\n",
       "      <td>0</td>\n",
       "      <td>0</td>\n",
       "      <td>132</td>\n",
       "    </tr>\n",
       "  </tbody>\n",
       "</table>\n",
       "<p>5 rows × 43 columns</p>\n",
       "</div>"
      ],
      "text/plain": [
       "            Made_Roster  Passer_Plays  Q1_Plays  Q2_Plays  Q3_Plays  Q4_Plays  \\\n",
       "00-0000865            1            10         0         0         3         7   \n",
       "00-0002110            1            33         7        16         4         6   \n",
       "00-0003035            1             0         1         0         0         1   \n",
       "00-0003292            1            38         0        22        10         6   \n",
       "00-0003315            1            16         8         9         0         0   \n",
       "\n",
       "            Receiver_Plays  Redzone  Run_Plays  Success_Pass  ...  rush_yards  \\\n",
       "00-0000865               0        3          0             4  ...           0   \n",
       "00-0002110               0        3          0             9  ...           0   \n",
       "00-0003035               2        0          0             0  ...           0   \n",
       "00-0003292               0        2          0            16  ...           0   \n",
       "00-0003315               0        3          1             6  ...           0   \n",
       "\n",
       "            season  team  third_down_converted  third_down_failed touchdown  \\\n",
       "00-0000865    2010   PIT                     1                  2         2   \n",
       "00-0002110    2010   NYJ                     2                  8         2   \n",
       "00-0003035    2010   CHI                     0                  0         0   \n",
       "00-0003292    2010   TEN                     5                  6         1   \n",
       "00-0003315    2010   CHI                     2                  4         1   \n",
       "\n",
       "            two_point_converted  two_point_failed  yards_after_catch  \\\n",
       "00-0000865                    0                 0                  0   \n",
       "00-0002110                    0                 0                  0   \n",
       "00-0003035                    0                 0                  5   \n",
       "00-0003292                    0                 0                  0   \n",
       "00-0003315                    0                 0                  0   \n",
       "\n",
       "            yards_gained  \n",
       "00-0000865            64  \n",
       "00-0002110           118  \n",
       "00-0003035            25  \n",
       "00-0003292           249  \n",
       "00-0003315           132  \n",
       "\n",
       "[5 rows x 43 columns]"
      ]
     },
     "execution_count": 23,
     "metadata": {},
     "output_type": "execute_result"
    }
   ],
   "source": [
    "print(len(stats_df))\n",
    "stats_df.head()"
   ]
  },
  {
   "cell_type": "markdown",
   "metadata": {},
   "source": [
    "## Visualizations "
   ]
  },
  {
   "cell_type": "code",
   "execution_count": 49,
   "metadata": {},
   "outputs": [
    {
     "data": {
      "text/plain": [
       "<matplotlib.legend.Legend at 0x17339527948>"
      ]
     },
     "execution_count": 49,
     "metadata": {},
     "output_type": "execute_result"
    },
    {
     "data": {
      "image/png": "[encoded data removed]",
      "text/plain": [
       "<Figure size 432x288 with 1 Axes>"
      ]
     },
     "metadata": {
      "needs_background": "light"
     },
     "output_type": "display_data"
    }
   ],
   "source": [
    "\n",
    "ax = stats_df.groupby(['position', 'Made_Roster']).size().unstack().plot(kind='bar', stacked=True)\n",
    "ax.set_ylabel('Player Count')\n",
    "ax.set_xlabel('Position')\n",
    "ax.set_title('Preseason to Week 1 NFL Roster Analysis by Position (2009-2018)')\n",
    "ax.legend(['waived', 'signed'])"
   ]
  },
  {
   "cell_type": "code",
   "execution_count": 48,
   "metadata": {},
   "outputs": [
    {
     "data": {
      "text/plain": [
       "<matplotlib.legend.Legend at 0x173385667c8>"
      ]
     },
     "execution_count": 48,
     "metadata": {},
     "output_type": "execute_result"
    },
    {
     "data": {
      "image/png": "[encoded data removed]",
      "text/plain": [
       "<Figure size 432x288 with 1 Axes>"
      ]
     },
     "metadata": {
      "needs_background": "light"
     },
     "output_type": "display_data"
    }
   ],
   "source": [
    "ax = stats_df[stats_df['Made_Roster'] == 0].groupby(['season', 'position']).size().unstack().plot(kind='line')\n",
    "ax.set_ylabel('Player Count')\n",
    "ax.set_xlabel('Season')\n",
    "ax.set_title('Count of Players to Make Week 1 Rosters by Position (2009-2018)')\n",
    "ax.legend(bbox_to_anchor=(1.05, 1), loc='upper left', borderaxespad=0.)"
   ]
  },
  {
   "cell_type": "code",
   "execution_count": 97,
   "metadata": {},
   "outputs": [
    {
     "data": {
      "image/png": "[encoded data removed]",
      "text/plain": [
       "<Figure size 432x288 with 1 Axes>"
      ]
     },
     "metadata": {
      "needs_background": "light"
     },
     "output_type": "display_data"
    }
   ],
   "source": [
    "sns.countplot(x=\"season\", data=stats_df);"
   ]
  },
  {
   "cell_type": "code",
   "execution_count": 98,
   "metadata": {},
   "outputs": [
    {
     "data": {
      "image/png": "[encoded data removed]",
      "text/plain": [
       "<Figure size 432x288 with 1 Axes>"
      ]
     },
     "metadata": {
      "needs_background": "light"
     },
     "output_type": "display_data"
    }
   ],
   "source": [
    "sns.countplot(x=\"season\", data=stats_df[stats_df['Made_Roster'] == 1]);"
   ]
  },
  {
   "cell_type": "code",
   "execution_count": 67,
   "metadata": {},
   "outputs": [
    {
     "name": "stderr",
     "output_type": "stream",
     "text": [
      "C:\\Users\\travis\\AppData\\Local\\Continuum\\anaconda3\\lib\\site-packages\\pandas\\plotting\\_matplotlib\\tools.py:307: MatplotlibDeprecationWarning: \n",
      "The rowNum attribute was deprecated in Matplotlib 3.2 and will be removed two minor releases later. Use ax.get_subplotspec().rowspan.start instead.\n",
      "  layout[ax.rowNum, ax.colNum] = ax.get_visible()\n",
      "C:\\Users\\travis\\AppData\\Local\\Continuum\\anaconda3\\lib\\site-packages\\pandas\\plotting\\_matplotlib\\tools.py:307: MatplotlibDeprecationWarning: \n",
      "The colNum attribute was deprecated in Matplotlib 3.2 and will be removed two minor releases later. Use ax.get_subplotspec().colspan.start instead.\n",
      "  layout[ax.rowNum, ax.colNum] = ax.get_visible()\n",
      "C:\\Users\\travis\\AppData\\Local\\Continuum\\anaconda3\\lib\\site-packages\\pandas\\plotting\\_matplotlib\\tools.py:313: MatplotlibDeprecationWarning: \n",
      "The rowNum attribute was deprecated in Matplotlib 3.2 and will be removed two minor releases later. Use ax.get_subplotspec().rowspan.start instead.\n",
      "  if not layout[ax.rowNum + 1, ax.colNum]:\n",
      "C:\\Users\\travis\\AppData\\Local\\Continuum\\anaconda3\\lib\\site-packages\\pandas\\plotting\\_matplotlib\\tools.py:313: MatplotlibDeprecationWarning: \n",
      "The colNum attribute was deprecated in Matplotlib 3.2 and will be removed two minor releases later. Use ax.get_subplotspec().colspan.start instead.\n",
      "  if not layout[ax.rowNum + 1, ax.colNum]:\n",
      "C:\\Users\\travis\\AppData\\Local\\Continuum\\anaconda3\\lib\\site-packages\\pandas\\plotting\\_matplotlib\\tools.py:307: MatplotlibDeprecationWarning: \n",
      "The rowNum attribute was deprecated in Matplotlib 3.2 and will be removed two minor releases later. Use ax.get_subplotspec().rowspan.start instead.\n",
      "  layout[ax.rowNum, ax.colNum] = ax.get_visible()\n",
      "C:\\Users\\travis\\AppData\\Local\\Continuum\\anaconda3\\lib\\site-packages\\pandas\\plotting\\_matplotlib\\tools.py:307: MatplotlibDeprecationWarning: \n",
      "The colNum attribute was deprecated in Matplotlib 3.2 and will be removed two minor releases later. Use ax.get_subplotspec().colspan.start instead.\n",
      "  layout[ax.rowNum, ax.colNum] = ax.get_visible()\n",
      "C:\\Users\\travis\\AppData\\Local\\Continuum\\anaconda3\\lib\\site-packages\\pandas\\plotting\\_matplotlib\\tools.py:313: MatplotlibDeprecationWarning: \n",
      "The rowNum attribute was deprecated in Matplotlib 3.2 and will be removed two minor releases later. Use ax.get_subplotspec().rowspan.start instead.\n",
      "  if not layout[ax.rowNum + 1, ax.colNum]:\n",
      "C:\\Users\\travis\\AppData\\Local\\Continuum\\anaconda3\\lib\\site-packages\\pandas\\plotting\\_matplotlib\\tools.py:313: MatplotlibDeprecationWarning: \n",
      "The colNum attribute was deprecated in Matplotlib 3.2 and will be removed two minor releases later. Use ax.get_subplotspec().colspan.start instead.\n",
      "  if not layout[ax.rowNum + 1, ax.colNum]:\n"
     ]
    },
    {
     "data": {
      "image/png": "[encoded data removed]",
      "text/plain": [
       "<Figure size 720x720 with 4 Axes>"
      ]
     },
     "metadata": {
      "needs_background": "light"
     },
     "output_type": "display_data"
    }
   ],
   "source": [
    "\n",
    "f = plt.figure(figsize=(10,10))\n",
    "\n",
    "quarters = [1, 2, 3, 4]\n",
    "for ii, jj in enumerate(quarters):\n",
    "    plt.subplot(2,2,ii+1).set_ylim(0, 6)\n",
    "    plt.title(\"Quarter \" + str(jj))\n",
    "    stats_df['Q' + str(jj) + '_Plays'].groupby(stats_df['Made_Roster']).mean().plot(kind='bar')\n",
    "    plt.ylabel('Average Play Count')\n",
    "    plt.xlabel('')\n",
    "    plt.xticks([0,1], ['waived', 'signed'])\n",
    "    \n",
    "f.subplots_adjust(hspace = .3)"
   ]
  },
  {
   "cell_type": "code",
   "execution_count": 70,
   "metadata": {},
   "outputs": [
    {
     "data": {
      "image/png": "[encoded data removed]",
      "text/plain": [
       "<Figure size 720x288 with 3 Axes>"
      ]
     },
     "metadata": {
      "needs_background": "light"
     },
     "output_type": "display_data"
    }
   ],
   "source": [
    "f = plt.figure(figsize=(10,4))\n",
    "\n",
    "quarters = ['Passer', 'Receiver', 'Run']\n",
    "for ii, jj in enumerate(quarters):\n",
    "    plt.subplot(1,3,ii+1)\n",
    "    plt.title(str(jj) + ' Plays')\n",
    "    plt.ylabel('Count of Plays')\n",
    "    plt.xlabel(' ')\n",
    "    stats_df[str(jj) + '_Plays'].groupby(stats_df['Made_Roster']).mean().plot(kind='bar')\n",
    "    plt.xticks([0,1], ['waived', 'signed'])"
   ]
  },
  {
   "cell_type": "markdown",
   "metadata": {},
   "source": [
    "# Prediction Model"
   ]
  },
  {
   "cell_type": "markdown",
   "metadata": {},
   "source": [
    "## Prepare Data"
   ]
  },
  {
   "cell_type": "code",
   "execution_count": 81,
   "metadata": {},
   "outputs": [],
   "source": [
    "X = stats_df.copy()\n",
    "y = stats_df[['Made_Roster','season']]\n",
    "\n",
    "ohe_df = pd.get_dummies(X.position)\n",
    "X = pd.concat([X, ohe_df], axis=1).drop(columns=['Made_Roster',\n",
    "                                                      'full_player_name', 'abbr_player_name', 'team', 'position'])"
   ]
  },
  {
   "cell_type": "code",
   "execution_count": 82,
   "metadata": {},
   "outputs": [],
   "source": [
    "\n",
    "X_train = X[(X.season <= 2016)].drop(columns=['season'])\n",
    "X_test = X[(X.season == 2017) | (X.season == 2018)].drop(columns=['season'])\n",
    "\n",
    "y_train = y[(y.season <= 2016)].drop(columns=['season'])\n",
    "y_test = y[(y.season == 2017) | (y.season == 2018)].drop(columns=['season'])\n",
    "\n",
    "X = X.drop(columns=['season'])\n",
    "y = y.drop(columns=['season'])\n",
    "\n",
    "feature_names = list(X)"
   ]
  },
  {
   "cell_type": "markdown",
   "metadata": {},
   "source": [
    "## Logistic Regression "
   ]
  },
  {
   "cell_type": "code",
   "execution_count": 84,
   "metadata": {},
   "outputs": [],
   "source": [
    "from sklearn.preprocessing import OneHotEncoder\n",
    "from sklearn.linear_model import LogisticRegression\n",
    "from sklearn.tree import DecisionTreeClassifier\n",
    "from sklearn.feature_selection import SelectKBest, f_classif\n",
    "from statistics import mean\n",
    "\n",
    "import warnings\n",
    "warnings.filterwarnings('ignore')\n",
    "%matplotlib inline"
   ]
  },
  {
   "cell_type": "code",
   "execution_count": 85,
   "metadata": {},
   "outputs": [
    {
     "name": "stdout",
     "output_type": "stream",
     "text": [
      "0.7459421312632322\n"
     ]
    }
   ],
   "source": [
    "logreg = LogisticRegression(solver='saga')\n",
    "logreg.fit(X_train, y_train)\n",
    "\n",
    "print(logreg.score(X_test, y_test))"
   ]
  },
  {
   "cell_type": "code",
   "execution_count": 86,
   "metadata": {},
   "outputs": [
    {
     "data": {
      "text/plain": [
       "SelectKBest(k='all', score_func=<function f_classif at 0x0000017363BDCAF8>)"
      ]
     },
     "execution_count": 86,
     "metadata": {},
     "output_type": "execute_result"
    }
   ],
   "source": [
    "model_ftest = SelectKBest(score_func=f_classif, k='all')\n",
    "model_ftest.fit(X_train, y_train)"
   ]
  },
  {
   "cell_type": "code",
   "execution_count": 89,
   "metadata": {},
   "outputs": [],
   "source": [
    "ftest_scores = model_ftest.scores_\n",
    "ftest_pvalues = model_ftest.pvalues_"
   ]
  },
  {
   "cell_type": "code",
   "execution_count": 90,
   "metadata": {},
   "outputs": [
    {
     "data": {
      "text/html": [
       "<div>\n",
       "<style scoped>\n",
       "    .dataframe tbody tr th:only-of-type {\n",
       "        vertical-align: middle;\n",
       "    }\n",
       "\n",
       "    .dataframe tbody tr th {\n",
       "        vertical-align: top;\n",
       "    }\n",
       "\n",
       "    .dataframe thead th {\n",
       "        text-align: right;\n",
       "    }\n",
       "</style>\n",
       "<table border=\"1\" class=\"dataframe\">\n",
       "  <thead>\n",
       "    <tr style=\"text-align: right;\">\n",
       "      <th></th>\n",
       "      <th>feature</th>\n",
       "      <th>f value</th>\n",
       "      <th>p-value</th>\n",
       "    </tr>\n",
       "  </thead>\n",
       "  <tbody>\n",
       "    <tr>\n",
       "      <td>1</td>\n",
       "      <td>Q1_Plays</td>\n",
       "      <td>709</td>\n",
       "      <td>0</td>\n",
       "    </tr>\n",
       "    <tr>\n",
       "      <td>2</td>\n",
       "      <td>Q2_Plays</td>\n",
       "      <td>384</td>\n",
       "      <td>0</td>\n",
       "    </tr>\n",
       "    <tr>\n",
       "      <td>4</td>\n",
       "      <td>Q4_Plays</td>\n",
       "      <td>247</td>\n",
       "      <td>0</td>\n",
       "    </tr>\n",
       "    <tr>\n",
       "      <td>27</td>\n",
       "      <td>receiving_yards</td>\n",
       "      <td>210</td>\n",
       "      <td>0</td>\n",
       "    </tr>\n",
       "    <tr>\n",
       "      <td>36</td>\n",
       "      <td>yards_gained</td>\n",
       "      <td>194</td>\n",
       "      <td>0</td>\n",
       "    </tr>\n",
       "    <tr>\n",
       "      <td>10</td>\n",
       "      <td>Success_Receive</td>\n",
       "      <td>193</td>\n",
       "      <td>0</td>\n",
       "    </tr>\n",
       "    <tr>\n",
       "      <td>9</td>\n",
       "      <td>Success_Play</td>\n",
       "      <td>175</td>\n",
       "      <td>0</td>\n",
       "    </tr>\n",
       "    <tr>\n",
       "      <td>35</td>\n",
       "      <td>yards_after_catch</td>\n",
       "      <td>175</td>\n",
       "      <td>0</td>\n",
       "    </tr>\n",
       "    <tr>\n",
       "      <td>5</td>\n",
       "      <td>Receiver_Plays</td>\n",
       "      <td>154</td>\n",
       "      <td>0</td>\n",
       "    </tr>\n",
       "    <tr>\n",
       "      <td>12</td>\n",
       "      <td>Total_Plays</td>\n",
       "      <td>106</td>\n",
       "      <td>0</td>\n",
       "    </tr>\n",
       "  </tbody>\n",
       "</table>\n",
       "</div>"
      ],
      "text/plain": [
       "              feature  f value  p-value\n",
       "1            Q1_Plays      709        0\n",
       "2            Q2_Plays      384        0\n",
       "4            Q4_Plays      247        0\n",
       "27    receiving_yards      210        0\n",
       "36       yards_gained      194        0\n",
       "10    Success_Receive      193        0\n",
       "9        Success_Play      175        0\n",
       "35  yards_after_catch      175        0\n",
       "5      Receiver_Plays      154        0\n",
       "12        Total_Plays      106        0"
      ]
     },
     "execution_count": 90,
     "metadata": {},
     "output_type": "execute_result"
    }
   ],
   "source": [
    "ftest_all = pd.DataFrame(list(zip(feature_names, ftest_scores, ftest_pvalues)), columns=['feature', 'f value', 'p-value'])\n",
    "ftest_all.sort_values('p-value').head(10)"
   ]
  },
  {
   "cell_type": "code",
   "execution_count": 91,
   "metadata": {},
   "outputs": [
    {
     "name": "stdout",
     "output_type": "stream",
     "text": [
      "31\n"
     ]
    },
    {
     "data": {
      "text/plain": [
       "<matplotlib.axes._subplots.AxesSubplot at 0x17363c547c8>"
      ]
     },
     "execution_count": 91,
     "metadata": {},
     "output_type": "execute_result"
    },
    {
     "data": {
      "image/png": "[encoded data removed]",
      "text/plain": [
       "<Figure size 864x288 with 1 Axes>"
      ]
     },
     "metadata": {
      "needs_background": "light"
     },
     "output_type": "display_data"
    }
   ],
   "source": [
    "\n",
    "ftest_sig = ftest_all[ftest_all['p-value'] <= .05].sort_values('f value', ascending=False)\n",
    "print(len(ftest_sig))\n",
    "ftest_plot = ftest_sig.head(50)\n",
    "ftest_plot.plot.bar(x='feature', y='f value', title='f value of significant features (p<.05)', figsize=(12,4))"
   ]
  },
  {
   "cell_type": "code",
   "execution_count": 92,
   "metadata": {},
   "outputs": [],
   "source": [
    "f_model = SelectKBest(f_classif, k=31)\n",
    "X_train_f = f_model.fit_transform(X_train, y_train)\n",
    "\n",
    "logreg_f = LogisticRegression(solver='saga')\n",
    "logreg_f.fit(X_train_f, y_train)\n",
    "\n",
    "X_test_f = f_model.transform(X_test)"
   ]
  },
  {
   "cell_type": "code",
   "execution_count": 93,
   "metadata": {},
   "outputs": [
    {
     "name": "stdout",
     "output_type": "stream",
     "text": [
      "0.739590684544813\n"
     ]
    }
   ],
   "source": [
    "print(logreg_f.score(X_test_f, y_test))"
   ]
  },
  {
   "cell_type": "code",
   "execution_count": 94,
   "metadata": {},
   "outputs": [],
   "source": [
    "X_train_qtr = X_train[['Q1_Plays', 'Q2_Plays', 'Q3_Plays', 'Q4_Plays']]\n",
    "X_test_qtr = X_test[['Q1_Plays', 'Q2_Plays', 'Q3_Plays', 'Q4_Plays']]"
   ]
  },
  {
   "cell_type": "code",
   "execution_count": 95,
   "metadata": {},
   "outputs": [
    {
     "name": "stdout",
     "output_type": "stream",
     "text": [
      "0.7692307692307693\n"
     ]
    }
   ],
   "source": [
    "logreg_qtr = LogisticRegression(solver='saga')\n",
    "logreg_qtr.fit(X_train_qtr, y_train)\n",
    "\n",
    "print(logreg_qtr.score(X_test_qtr, y_test))"
   ]
  },
  {
   "cell_type": "code",
   "execution_count": null,
   "metadata": {},
   "outputs": [],
   "source": []
  }
 ],
 "metadata": {
  "kernelspec": {
   "display_name": "Python 3",
   "language": "python",
   "name": "python3"
  },
  "language_info": {
   "codemirror_mode": {
    "name": "ipython",
    "version": 3
   },
   "file_extension": ".py",
   "mimetype": "text/x-python",
   "name": "python",
   "nbconvert_exporter": "python",
   "pygments_lexer": "ipython3",
   "version": "3.7.3"
  },
  "toc": {
   "base_numbering": 1,
   "nav_menu": {},
   "number_sections": true,
   "sideBar": true,
   "skip_h1_title": false,
   "title_cell": "Table of Contents",
   "title_sidebar": "Contents",
   "toc_cell": false,
   "toc_position": {},
   "toc_section_display": true,
   "toc_window_display": false
  }
 },
 "nbformat": 4,
 "nbformat_minor": 2
}
